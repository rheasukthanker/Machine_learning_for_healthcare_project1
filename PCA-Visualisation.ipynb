{
 "cells": [
  {
   "cell_type": "code",
   "execution_count": 1,
   "metadata": {},
   "outputs": [],
   "source": [
    "import pandas as pd\n",
    "import numpy as np"
   ]
  },
  {
   "cell_type": "code",
   "execution_count": 2,
   "metadata": {},
   "outputs": [
    {
     "name": "stderr",
     "output_type": "stream",
     "text": [
      "Using TensorFlow backend.\n"
     ]
    }
   ],
   "source": [
    "from keras import optimizers, losses, activations, models\n",
    "from keras.callbacks import ModelCheckpoint, EarlyStopping, LearningRateScheduler, ReduceLROnPlateau\n",
    "from keras.layers import Dense, Input, Dropout, Convolution1D, MaxPool1D, GlobalMaxPool1D, GlobalAveragePooling1D, \\\n",
    "    concatenate\n",
    "from sklearn.metrics import f1_score, accuracy_score"
   ]
  },
  {
   "cell_type": "code",
   "execution_count": 92,
   "metadata": {},
   "outputs": [],
   "source": [
    "df_train = pd.read_csv(\"heartbeat\\mitbih_train.csv\", header=None)"
   ]
  },
  {
   "cell_type": "code",
   "execution_count": 93,
   "metadata": {},
   "outputs": [],
   "source": [
    "df_train = df_train.sample(frac=1)\n",
    "df_test = pd.read_csv(\"heartbeat\\mitbih_test.csv\", header=None)"
   ]
  },
  {
   "cell_type": "code",
   "execution_count": 94,
   "metadata": {},
   "outputs": [],
   "source": [
    "Y = np.array(df_train[187].values).astype(np.int8)\n",
    "X = np.array(df_train[list(range(187))].values)[..., np.newaxis]\n",
    "\n",
    "Y_test = np.array(df_test[187].values).astype(np.int8)\n",
    "X_test = np.array(df_test[list(range(187))].values)[..., np.newaxis]"
   ]
  },
  {
   "cell_type": "code",
   "execution_count": 7,
   "metadata": {},
   "outputs": [],
   "source": [
    "##################### PCA ###################################"
   ]
  },
  {
   "cell_type": "code",
   "execution_count": 8,
   "metadata": {},
   "outputs": [],
   "source": [
    "from __future__ import print_function\n",
    "import time"
   ]
  },
  {
   "cell_type": "code",
   "execution_count": 9,
   "metadata": {},
   "outputs": [],
   "source": [
    "from sklearn.decomposition import PCA\n",
    "from sklearn.manifold import TSNE\n",
    "import matplotlib.pyplot as plt\n",
    "import matplotlib.pyplot as plt\n",
    "from mpl_toolkits.mplot3d import Axes3D"
   ]
  },
  {
   "cell_type": "code",
   "execution_count": 95,
   "metadata": {},
   "outputs": [],
   "source": [
    "#feat=df_train[list(range(187))]\n",
    "feat=df_test[list(range(187))]"
   ]
  },
  {
   "cell_type": "code",
   "execution_count": 96,
   "metadata": {},
   "outputs": [
    {
     "data": {
      "text/plain": [
       "(21892, 187)"
      ]
     },
     "execution_count": 96,
     "metadata": {},
     "output_type": "execute_result"
    }
   ],
   "source": [
    "feat.shape"
   ]
  },
  {
   "cell_type": "code",
   "execution_count": 100,
   "metadata": {},
   "outputs": [
    {
     "name": "stdout",
     "output_type": "stream",
     "text": [
      "Explained variation per principal component: [0.52674791 0.21832223 0.12449401 0.02131187 0.01105688 0.00752472\n",
      " 0.00682504 0.00619586 0.00552778 0.00519008]\n"
     ]
    }
   ],
   "source": [
    "df=feat\n",
    "pca = PCA(n_components=10)\n",
    "pca_result = pca.fit_transform(feat.values)\n",
    "df['pca-one'] = pca_result[:,0]\n",
    "df['pca-two'] = pca_result[:,1] \n",
    "df['pca-three'] = pca_result[:,2]\n",
    "#df['y']=Y\n",
    "df['y']=Y_test\n",
    "df['label'] = df['y'].apply(lambda i: str(i))\n",
    "print('Explained variation per principal component: {}'.format(pca.explained_variance_ratio_))\n"
   ]
  },
  {
   "cell_type": "code",
   "execution_count": 101,
   "metadata": {},
   "outputs": [
    {
     "data": {
      "text/html": [
       "<div>\n",
       "<style scoped>\n",
       "    .dataframe tbody tr th:only-of-type {\n",
       "        vertical-align: middle;\n",
       "    }\n",
       "\n",
       "    .dataframe tbody tr th {\n",
       "        vertical-align: top;\n",
       "    }\n",
       "\n",
       "    .dataframe thead th {\n",
       "        text-align: right;\n",
       "    }\n",
       "</style>\n",
       "<table border=\"1\" class=\"dataframe\">\n",
       "  <thead>\n",
       "    <tr style=\"text-align: right;\">\n",
       "      <th></th>\n",
       "      <th>pca-one</th>\n",
       "      <th>pca-two</th>\n",
       "      <th>label</th>\n",
       "    </tr>\n",
       "  </thead>\n",
       "  <tbody>\n",
       "    <tr>\n",
       "      <th>0</th>\n",
       "      <td>-2.976542</td>\n",
       "      <td>0.073606</td>\n",
       "      <td>0</td>\n",
       "    </tr>\n",
       "    <tr>\n",
       "      <th>1</th>\n",
       "      <td>0.748897</td>\n",
       "      <td>-1.408478</td>\n",
       "      <td>0</td>\n",
       "    </tr>\n",
       "    <tr>\n",
       "      <th>2</th>\n",
       "      <td>-1.919162</td>\n",
       "      <td>0.022115</td>\n",
       "      <td>0</td>\n",
       "    </tr>\n",
       "    <tr>\n",
       "      <th>3</th>\n",
       "      <td>-0.610499</td>\n",
       "      <td>-0.186309</td>\n",
       "      <td>0</td>\n",
       "    </tr>\n",
       "    <tr>\n",
       "      <th>4</th>\n",
       "      <td>1.068336</td>\n",
       "      <td>-0.667276</td>\n",
       "      <td>0</td>\n",
       "    </tr>\n",
       "    <tr>\n",
       "      <th>...</th>\n",
       "      <td>...</td>\n",
       "      <td>...</td>\n",
       "      <td>...</td>\n",
       "    </tr>\n",
       "    <tr>\n",
       "      <th>21887</th>\n",
       "      <td>7.656767</td>\n",
       "      <td>5.454956</td>\n",
       "      <td>4</td>\n",
       "    </tr>\n",
       "    <tr>\n",
       "      <th>21888</th>\n",
       "      <td>9.731510</td>\n",
       "      <td>4.291060</td>\n",
       "      <td>4</td>\n",
       "    </tr>\n",
       "    <tr>\n",
       "      <th>21889</th>\n",
       "      <td>0.035287</td>\n",
       "      <td>7.514775</td>\n",
       "      <td>4</td>\n",
       "    </tr>\n",
       "    <tr>\n",
       "      <th>21890</th>\n",
       "      <td>2.863385</td>\n",
       "      <td>6.769497</td>\n",
       "      <td>4</td>\n",
       "    </tr>\n",
       "    <tr>\n",
       "      <th>21891</th>\n",
       "      <td>6.019957</td>\n",
       "      <td>6.014320</td>\n",
       "      <td>4</td>\n",
       "    </tr>\n",
       "  </tbody>\n",
       "</table>\n",
       "<p>21892 rows × 3 columns</p>\n",
       "</div>"
      ],
      "text/plain": [
       "        pca-one   pca-two label\n",
       "0     -2.976542  0.073606     0\n",
       "1      0.748897 -1.408478     0\n",
       "2     -1.919162  0.022115     0\n",
       "3     -0.610499 -0.186309     0\n",
       "4      1.068336 -0.667276     0\n",
       "...         ...       ...   ...\n",
       "21887  7.656767  5.454956     4\n",
       "21888  9.731510  4.291060     4\n",
       "21889  0.035287  7.514775     4\n",
       "21890  2.863385  6.769497     4\n",
       "21891  6.019957  6.014320     4\n",
       "\n",
       "[21892 rows x 3 columns]"
      ]
     },
     "execution_count": 101,
     "metadata": {},
     "output_type": "execute_result"
    }
   ],
   "source": [
    "dx=df[['pca-one', 'pca-two', 'label']]\n",
    "dx"
   ]
  },
  {
   "cell_type": "code",
   "execution_count": 102,
   "metadata": {},
   "outputs": [],
   "source": [
    "gk = dx.groupby('label') "
   ]
  },
  {
   "cell_type": "code",
   "execution_count": 103,
   "metadata": {},
   "outputs": [
    {
     "name": "stdout",
     "output_type": "stream",
     "text": [
      "18118\n",
      "556\n",
      "1448\n",
      "162\n",
      "1608\n"
     ]
    }
   ],
   "source": [
    "d0=gk.get_group('0')\n",
    "d1=gk.get_group('1')\n",
    "d2=gk.get_group('2')\n",
    "d3=gk.get_group('3')\n",
    "d4=gk.get_group('4')\n",
    "\n",
    "# nmin=d3.shape[0]\n",
    "# nmin\n",
    "# d0=d0.sample(nmin)\n",
    "# d1=d1.sample(nmin)\n",
    "# d2=d2.sample(nmin)\n",
    "# d4=d4.sample(nmin)\n",
    "print(d0.shape[0])\n",
    "print(d1.shape[0])\n",
    "print(d2.shape[0])\n",
    "print(d3.shape[0])\n",
    "print(d4.shape[0])"
   ]
  },
  {
   "cell_type": "code",
   "execution_count": 104,
   "metadata": {},
   "outputs": [
    {
     "data": {
      "image/png": "[encoded data removed]",
      "text/plain": [
       "<Figure size 432x288 with 1 Axes>"
      ]
     },
     "metadata": {
      "needs_background": "light"
     },
     "output_type": "display_data"
    }
   ],
   "source": [
    "cdict = {'0': 'yellow', '1': 'red', '2': 'blue', '3': 'green', '4': 'brown'}\n",
    "fig, ax = plt.subplots()\n",
    "ax.scatter(d0['pca-one'], d0['pca-two'] , c = cdict['0'], label = '0', s = 10)\n",
    "ax.scatter(d1['pca-one'], d1['pca-two'] , c = cdict['1'], label = '1', s = 10)\n",
    "ax.scatter(d2['pca-one'], d2['pca-two'] , c = cdict['2'], label = '2', s = 10)\n",
    "ax.scatter(d3['pca-one'], d3['pca-two'] , c = cdict['3'], label = '3', s = 10)\n",
    "ax.scatter(d4['pca-one'], d4['pca-two'] , c = cdict['4'], label = '4', s = 10)\n",
    "ax.legend()\n",
    "ax.set_xlabel('pca dim-1')\n",
    "ax.set_ylabel('pca dim-2')\n",
    "plt.savefig('pca-mit_test.png')\n"
   ]
  },
  {
   "cell_type": "code",
   "execution_count": 80,
   "metadata": {},
   "outputs": [],
   "source": [
    "############### PTB ################"
   ]
  },
  {
   "cell_type": "code",
   "execution_count": 83,
   "metadata": {},
   "outputs": [],
   "source": [
    "from sklearn.model_selection import train_test_split"
   ]
  },
  {
   "cell_type": "code",
   "execution_count": 84,
   "metadata": {},
   "outputs": [],
   "source": [
    "df_1 = pd.read_csv(\"heartbeat\\ptbdb_normal.csv\", header=None)\n",
    "df_2 = pd.read_csv(\"heartbeat\\ptbdb_abnormal.csv\", header=None)\n",
    "df = pd.concat([df_1, df_2])\n",
    "\n",
    "df_train, df_test = train_test_split(df, test_size=0.2, random_state=1337, stratify=df[187])\n",
    "\n",
    "\n",
    "Y = np.array(df_train[187].values).astype(np.int8)\n",
    "X = np.array(df_train[list(range(187))].values)[..., np.newaxis]\n",
    "\n",
    "Y_test = np.array(df_test[187].values).astype(np.int8)\n",
    "X_test = np.array(df_test[list(range(187))].values)[..., np.newaxis]"
   ]
  },
  {
   "cell_type": "code",
   "execution_count": 87,
   "metadata": {},
   "outputs": [],
   "source": [
    "feat=df[list(range(187))]\n",
    "Y = np.array(df[187].values).astype(np.int8)"
   ]
  },
  {
   "cell_type": "code",
   "execution_count": 89,
   "metadata": {},
   "outputs": [
    {
     "name": "stdout",
     "output_type": "stream",
     "text": [
      "Explained variation per principal component: [0.47040814 0.15710095 0.08608538]\n"
     ]
    }
   ],
   "source": [
    "df=feat\n",
    "pca = PCA(n_components=3)\n",
    "pca_result = pca.fit_transform(feat.values)\n",
    "df['pca-one'] = pca_result[:,0]\n",
    "df['pca-two'] = pca_result[:,1] \n",
    "df['pca-three'] = pca_result[:,2]\n",
    "df['y']=Y\n",
    "df['label'] = df['y'].apply(lambda i: str(i))\n",
    "print('Explained variation per principal component: {}'.format(pca.explained_variance_ratio_))\n"
   ]
  },
  {
   "cell_type": "code",
   "execution_count": 91,
   "metadata": {},
   "outputs": [
    {
     "data": {
      "image/png": "[encoded data removed]",
      "text/plain": [
       "<Figure size 432x288 with 1 Axes>"
      ]
     },
     "metadata": {
      "needs_background": "light"
     },
     "output_type": "display_data"
    }
   ],
   "source": [
    "dx=df[['pca-one', 'pca-two', 'label']]\n",
    "gk = dx.groupby('label') \n",
    "d0=gk.get_group('0')\n",
    "d1=gk.get_group('1')\n",
    "\n",
    "cdict = {'1': 'red', '0': 'blue'}\n",
    "fig, ax = plt.subplots()\n",
    "ax.scatter(d0['pca-one'], d0['pca-two'] , c = cdict['0'], label = '0', s = 10)\n",
    "ax.scatter(d1['pca-one'], d1['pca-two'] , c = cdict['1'], label = '1', s = 10)\n",
    "\n",
    "ax.legend()\n",
    "ax.set_xlabel('pca dim-1')\n",
    "ax.set_ylabel('pca dim-2')\n",
    "#plt.show()\n",
    "plt.savefig('pca-ptb.png')"
   ]
  },
  {
   "cell_type": "code",
   "execution_count": null,
   "metadata": {},
   "outputs": [],
   "source": []
  }
 ],
 "metadata": {
  "kernelspec": {
   "display_name": "Python 3",
   "language": "python",
   "name": "python3"
  },
  "language_info": {
   "codemirror_mode": {
    "name": "ipython",
    "version": 3
   },
   "file_extension": ".py",
   "mimetype": "text/x-python",
   "name": "python",
   "nbconvert_exporter": "python",
   "pygments_lexer": "ipython3",
   "version": "3.7.3"
  }
 },
 "nbformat": 4,
 "nbformat_minor": 2
}
